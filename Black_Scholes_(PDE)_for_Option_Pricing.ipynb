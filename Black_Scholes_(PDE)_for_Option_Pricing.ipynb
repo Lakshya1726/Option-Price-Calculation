{
  "nbformat": 4,
  "nbformat_minor": 0,
  "metadata": {
    "colab": {
      "provenance": []
    },
    "kernelspec": {
      "name": "python3",
      "display_name": "Python 3"
    },
    "language_info": {
      "name": "python"
    }
  },
  "cells": [
    {
      "cell_type": "code",
      "execution_count": 1,
      "metadata": {
        "id": "vZzDum7xdwvb"
      },
      "outputs": [],
      "source": [
        "import numpy as np\n",
        "\n",
        "def black_scholes_crank_nicolson(S0, K, T, r, sigma, dt, ds, option_type='call'):\n",
        "    \"\"\"\n",
        "    Prices an option using the Crank-Nicolson method for the Black-Scholes PDE.\n",
        "\n",
        "    Args:\n",
        "        S0: Initial stock price\n",
        "        K: Strike price\n",
        "        T: Time to maturity\n",
        "        r: Risk-free interest rate\n",
        "        sigma: Volatility\n",
        "        dt: Time step\n",
        "        ds: Stock price step\n",
        "        option_type: 'call' or 'put'\n",
        "\n",
        "    Returns:\n",
        "        Option price\n",
        "    \"\"\"\n",
        "\n",
        "    # Grid setup\n",
        "    S_max = S0 * np.exp(3 * sigma * np.sqrt(T))\n",
        "    S_min = S0 * np.exp(-3 * sigma * np.sqrt(T))\n",
        "    S_grid = np.arange(S_min, S_max + ds, ds)\n",
        "    t_grid = np.arange(0, T + dt, dt)\n",
        "\n",
        "    # Boundary conditions\n",
        "    if option_type == 'call':\n",
        "        V_boundary_top = S_grid - K\n",
        "        V_boundary_bottom = np.zeros_like(S_grid)\n",
        "    elif option_type == 'put':\n",
        "        V_boundary_top = np.zeros_like(S_grid)\n",
        "        V_boundary_bottom = K - S_grid\n",
        "\n",
        "    # Initialize the option price matrix\n",
        "    V = np.zeros((len(t_grid), len(S_grid)))\n",
        "\n",
        "    # Set the final time step (terminal condition)\n",
        "    V[-1, :] = np.maximum(S_grid - K, 0) if option_type == 'call' else np.maximum(K - S_grid, 0)\n",
        "\n",
        "    # Crank-Nicolson iteration\n",
        "    for j in range(len(t_grid) - 2, -1, -1):\n",
        "        A = np.zeros((len(S_grid), len(S_grid)))\n",
        "        b = np.zeros(len(S_grid))\n",
        "\n",
        "        # Construct the tridiagonal matrix A and the right-hand side vector b\n",
        "        for i in range(1, len(S_grid) - 1):\n",
        "            A[i, i - 1] = -0.25 * sigma**2 * S_grid[i]**2 / ds**2 - 0.5 * r * S_grid[i] / (2 * ds)\n",
        "            A[i, i] = 1 + 0.5 * dt * (sigma**2 * S_grid[i]**2 / ds**2 + r)\n",
        "            A[i, i + 1] = 0.25 * sigma**2 * S_grid[i]**2 / ds**2 + 0.5 * r * S_grid[i] / (2 * ds)\n",
        "\n",
        "            b[i] = V[j + 1, i] + 0.25 * dt * (sigma**2 * S_grid[i]**2 * (V[j + 1, i + 1] - 2 * V[j + 1, i] + V[j + 1, i - 1]) / ds**2 + r * S_grid[i] * (V[j + 1, i + 1] - V[j + 1, i - 1]) / (2 * ds))\n",
        "\n",
        "        # Set boundary conditions for A and b\n",
        "        A[0, 0] = 1\n",
        "        A[0, 1] = 0\n",
        "        b[0] = V_boundary_top[0]\n",
        "\n",
        "        A[-1, -1] = 1\n",
        "        A[-1, -2] = 0\n",
        "        b[-1] = V_boundary_bottom[-1]\n",
        "\n",
        "        # Solve the system of equations\n",
        "        V[j, :] = np.linalg.solve(A, b)\n",
        "\n",
        "    # Find the option price at the initial stock price S0\n",
        "    option_price = V[0, np.where(np.abs(S_grid - S0) == np.min(np.abs(S_grid - S0)))[0][0]]\n",
        "\n",
        "    return option_price"
      ]
    },
    {
      "cell_type": "code",
      "source": [
        "import numpy as np\n",
        "\n",
        "# Parameters\n",
        "S0 = 100  # Initial stock price\n",
        "K = 100  # Strike price\n",
        "T = 1  # Time to maturity (in years)\n",
        "r = 0.05  # Risk-free interest rate\n",
        "sigma = 0.2  # Volatility\n",
        "dt = 0.01  # Time step\n",
        "ds = 1  # Stock price step\n",
        "\n",
        "# Calculate the option price using the Crank-Nicolson method\n",
        "call_price = black_scholes_crank_nicolson(S0, K, T, r, sigma, dt, ds, option_type='call')\n",
        "put_price = black_scholes_crank_nicolson(S0, K, T, r, sigma, dt, ds, option_type='put')\n",
        "\n",
        "print(\"Call price:\", call_price)\n",
        "print(\"Put price:\", put_price)"
      ],
      "metadata": {
        "colab": {
          "base_uri": "https://localhost:8080/"
        },
        "id": "9wDGvBLWeBr9",
        "outputId": "f1f03368-2136-43b3-c07a-a4c9f1dc3491"
      },
      "execution_count": 2,
      "outputs": [
        {
          "output_type": "stream",
          "name": "stdout",
          "text": [
            "Call price: -30.249376036097217\n",
            "Put price: 8.27493668128338\n"
          ]
        }
      ]
    },
    {
      "cell_type": "code",
      "source": [],
      "metadata": {
        "id": "vOJ2E_JEegYM"
      },
      "execution_count": null,
      "outputs": []
    }
  ]
}